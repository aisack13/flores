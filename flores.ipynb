{
 "cells": [
  {
   "cell_type": "code",
   "execution_count": 1,
   "metadata": {},
   "outputs": [],
   "source": [
    "import math\n",
    "import turtle"
   ]
  },
  {
   "cell_type": "code",
   "execution_count": 4,
   "metadata": {},
   "outputs": [],
   "source": [
    "turtle.bgcolor(\"black\")\n",
    "turtle.pencolor(\"black\")\n",
    "turtle.shape(\"triangle\")\n",
    "turtle.speed(0)\n",
    "turtle.fillcolor(\"orangered\")\n",
    "phi = 137.508 * (math.pi / 180.0)\n",
    "for i in range(180 + 40):\n",
    "    r = 4 * math.sqrt(i)\n",
    "    theta = i * phi\n",
    "    x = r * math.cos(theta)\n",
    "    y = r * math.sin(theta)\n",
    "    turtle.penup()\n",
    "    turtle.goto(x, y)\n",
    "    turtle.setheading(i * 137.508)\n",
    "    turtle.pendown()\n",
    "    if i < 160:\n",
    "        turtle.stamp()\n",
    "    else:\n",
    "        turtle.fillcolor(\"yellow\")\n",
    "        turtle.begin_fill()\n",
    "        turtle.left(-5)\n",
    "        turtle.circle(500, 25)\n",
    "        turtle.right(-155)\n",
    "        turtle.circle(500, 25)\n",
    "        turtle.end_fill()\n",
    "turtle.hideturtle()\n",
    "turtle.done()"
   ]
  }
 ],
 "metadata": {
  "kernelspec": {
   "display_name": "Python 3",
   "language": "python",
   "name": "python3"
  },
  "language_info": {
   "codemirror_mode": {
    "name": "ipython",
    "version": 3
   },
   "file_extension": ".py",
   "mimetype": "text/x-python",
   "name": "python",
   "nbconvert_exporter": "python",
   "pygments_lexer": "ipython3",
   "version": "3.13.0"
  }
 },
 "nbformat": 4,
 "nbformat_minor": 2
}
